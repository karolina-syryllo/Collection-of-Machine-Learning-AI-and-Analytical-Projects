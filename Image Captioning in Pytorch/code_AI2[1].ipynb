{
 "cells": [
  {
   "cell_type": "markdown",
   "metadata": {
    "colab_type": "text",
    "id": "a31sFIyrHaXl"
   },
   "source": [
    "# Image Caption Generation\n"
   ]
  },
  {
   "cell_type": "markdown",
   "metadata": {
    "colab_type": "text",
    "id": "81kdnnwJvTFx"
   },
   "source": [
    "## Text preparation \n",
    "\n",
    "Before moving onto the actual model, we first have to prepare the text.\n",
    "First step is to build a vocabulary."
   ]
  },
  {
   "cell_type": "markdown",
   "metadata": {
    "colab_type": "text",
    "id": "4Ce3bfeFP_sH"
   },
   "source": [
    "Resnet- pre-trained network.\n",
    "\n",
    "CNN- to extract features using resnet.\n",
    "Then we pass it to the next part- Recursive Neural Network.\n",
    "\n",
    "5 different people describing and image. \n",
    "\n",
    "\n",
    "\n"
   ]
  },
  {
   "cell_type": "code",
   "execution_count": 1,
   "metadata": {
    "colab": {
     "base_uri": "https://localhost:8080/",
     "height": 122
    },
    "colab_type": "code",
    "id": "ccewMuTpO56X",
    "outputId": "61d98ef7-44ec-400e-aa48-f47a80d56c2d"
   },
   "outputs": [
    {
     "name": "stdout",
     "output_type": "stream",
     "text": [
      "Go to this URL in a browser: https://accounts.google.com/o/oauth2/auth?client_id=947318989803-6bn6qk8qdgf4n4g3pfee6491hc0brc4i.apps.googleusercontent.com&redirect_uri=urn%3aietf%3awg%3aoauth%3a2.0%3aoob&response_type=code&scope=email%20https%3a%2f%2fwww.googleapis.com%2fauth%2fdocs.test%20https%3a%2f%2fwww.googleapis.com%2fauth%2fdrive%20https%3a%2f%2fwww.googleapis.com%2fauth%2fdrive.photos.readonly%20https%3a%2f%2fwww.googleapis.com%2fauth%2fpeopleapi.readonly\n",
      "\n",
      "Enter your authorization code:\n",
      "··········\n",
      "Mounted at /content/drive\n"
     ]
    }
   ],
   "source": [
    "from google.colab import drive\n",
    "drive.mount(\"/content/drive\", force_remount=True)\n",
    "#drive.mount('/content/drive')\n"
   ]
  },
  {
   "cell_type": "code",
   "execution_count": 0,
   "metadata": {
    "colab": {},
    "colab_type": "code",
    "id": "iXpWOFqFOXcc"
   },
   "outputs": [],
   "source": [
    "# Mounted Drive if using Colab; otherwise, your local path\n",
    "root = \"drive/My Drive/Colab Notebooks/ai_cw_2/Flickr8k_Dataset/\" \n",
    "caption_dir = root + \"captions/\"                     \n",
    "image_dir = root + \"images/\"                          \n",
    "\n",
    "\n",
    "token_file = \"Flickr8k.token.txt\""
   ]
  },
  {
   "cell_type": "markdown",
   "metadata": {
    "colab_type": "text",
    "id": "c9AkORttFoF_"
   },
   "source": [
    "A helper function to read in our ground truth text file."
   ]
  },
  {
   "cell_type": "code",
   "execution_count": 0,
   "metadata": {
    "colab": {},
    "colab_type": "code",
    "id": "NHC0y7zaOXq8"
   },
   "outputs": [],
   "source": [
    "def read_lines(filepath):\n",
    "    \"\"\" Open the ground truth captions into memory, line by line. \"\"\"\n",
    "    file = open(filepath, 'r')\n",
    "    lines = []\n",
    "\n",
    "    while True: \n",
    "        # Get next line from file until there's no more\n",
    "        line = file.readline() \n",
    "        if not line: \n",
    "            break\n",
    "        if \"2258277193_586949ec62\" not in line.strip():     \n",
    "          lines.append(line.strip())\n",
    "    file.close() \n",
    "    return lines"
   ]
  },
  {
   "cell_type": "markdown",
   "metadata": {
    "colab_type": "text",
    "id": "D86cJx2yv81K"
   },
   "source": [
    "You can read all the ground truth captions (5 per image), into memory as follows:"
   ]
  },
  {
   "cell_type": "code",
   "execution_count": 0,
   "metadata": {
    "colab": {},
    "colab_type": "code",
    "id": "9m-snsM2XHuu"
   },
   "outputs": [],
   "source": [
    "lines = read_lines(caption_dir + token_file)"
   ]
  },
  {
   "cell_type": "code",
   "execution_count": 0,
   "metadata": {
    "colab": {},
    "colab_type": "code",
    "id": "-IkK91ZuXNB2"
   },
   "outputs": [],
   "source": [
    "lines[:5]"
   ]
  },
  {
   "cell_type": "code",
   "execution_count": 0,
   "metadata": {
    "colab": {},
    "colab_type": "code",
    "id": "oksUJjLPwApA"
   },
   "outputs": [],
   "source": [
    "\n",
    "class Vocabulary(object):\n",
    "    \"\"\"Simple vocabulary wrapper which maps every unique word to an integer ID. \"\"\"\n",
    "    def __init__(self):\n",
    "        # Intially, set both the IDs and words to empty dictionaries.\n",
    "        self.word2idx = {}    #two dictionaries because it's more efficient. if the word is not in dict it will add it\n",
    "        self.idx2word = {}\n",
    "        self.idx = 0\n",
    "\n",
    "    def add_word(self, word):\n",
    "        # If the word does not already exist in the dictionary, add it\n",
    "        if not word in self.word2idx:\n",
    "            self.word2idx[word] = self.idx\n",
    "            self.idx2word[self.idx] = word\n",
    "            # Increment the ID for the next word\n",
    "            self.idx += 1\n",
    "\n",
    "    def __call__(self, word):\n",
    "        # If we try to access a word in the dictionary which does not exist, return the <unk> id\n",
    "        if not word in self.word2idx:\n",
    "            return self.word2idx['<unk>']\n",
    "        return self.word2idx[word]\n",
    "\n",
    "    def __len__(self):\n",
    "        return len(self.word2idx)"
   ]
  },
  {
   "cell_type": "markdown",
   "metadata": {
    "colab_type": "text",
    "id": "VEQtthpXwEoY"
   },
   "source": [
    "We extract all the words from ```lines```, and create a list of them in a variable ```words```, for example:\n",
    "\n",
    "```words = [\"a\", \"an\", \"the\", \"cat\"... ]```\n",
    "\n",
    "\n"
   ]
  },
  {
   "cell_type": "code",
   "execution_count": 163,
   "metadata": {
    "colab": {
     "base_uri": "https://localhost:8080/",
     "height": 88
    },
    "colab_type": "code",
    "id": "I9M3UWSAwAsM",
    "outputId": "b5baf0f8-41cf-4558-959e-d8e3e1c653ed"
   },
   "outputs": [
    {
     "name": "stdout",
     "output_type": "stream",
     "text": [
      "[['a', 'child', 'in', 'a', 'pink', 'dress', 'is', 'climbing', 'up', 'a', 'set', 'of', 'stairs', 'in', 'an', 'entry', 'way'], ['a', 'girl', 'going', 'into', 'a', 'wooden', 'building'], ['a', 'little', 'girl', 'climbing', 'into', 'a', 'wooden', 'playhouse'], ['a', 'little', 'girl', 'climbing', 'the', 'stairs', 'to', 'her', 'playhouse'], ['a', 'little', 'girl', 'in', 'a', 'pink', 'dress', 'going', 'into', 'a', 'wooden', 'cabin'], ['a', 'black', 'dog', 'and', 'a', 'spotted', 'dog', 'are', 'fighting'], ['a', 'black', 'dog', 'and', 'a', 'tri-colored', 'dog', 'playing', 'with', 'each', 'other', 'on', 'the', 'road'], ['a', 'black', 'dog', 'and', 'a', 'white', 'dog', 'with', 'brown', 'spots', 'are', 'staring', 'at', 'each', 'other', 'in', 'the', 'street'], ['two', 'dogs', 'of', 'different', 'breeds', 'looking', 'at', 'each', 'other', 'on', 'the', 'road'], ['two', 'dogs', 'on', 'pavement', 'moving', 'toward', 'each', 'other']]\n",
      "40455\n",
      "3430\n"
     ]
    }
   ],
   "source": [
    "image_id_list=[]\n",
    "image_desc_list=[]\n",
    "\n",
    "for line in lines:\n",
    "    tokens = line.split()\n",
    "    image_id, image_desc=tokens[0], tokens[1:]\n",
    "    image_id_list.append(image_id)\n",
    "    image_desc_list.append(image_desc)\n",
    "\n",
    "words=[[char.lower() for char in val] for val in image_desc_list]\n",
    "\n",
    "from string import punctuation\n",
    "\n",
    "symbols=list(punctuation)\n",
    "\n",
    "words = [[c for c in char if c not in symbols] for char in words]\n",
    "print(words[:10])\n",
    "\n",
    "\n",
    "from collections import Counter\n",
    "# count each element in a list (like after unnesting them))\n",
    "freq=Counter([x for a in words for x in a])\n",
    "\n",
    "\n",
    "# delete elements in sublist is they appear less than 3 times in a whole text\n",
    "words_frequent = [[ele for ele in char if freq[ele] > 3] for char in words]\n",
    "print(len(words_frequent))\n",
    "\n",
    "\n",
    "# create a whole big unnested list\n",
    "words_list = [ item for elem in words_frequent for item in elem]\n",
    "\n",
    "#check how many distinctive values are there\n",
    "print(len(set(words_list)))"
   ]
  },
  {
   "cell_type": "markdown",
   "metadata": {
    "colab_type": "text",
    "id": "GHBMe-ATwLIQ"
   },
   "source": [
    "We build the vocabulary."
   ]
  },
  {
   "cell_type": "code",
   "execution_count": 0,
   "metadata": {
    "colab": {},
    "colab_type": "code",
    "id": "ctwErx_ZwAzB"
   },
   "outputs": [],
   "source": [
    "# Create a vocab instance\n",
    "vocab = Vocabulary()\n",
    "\n",
    "# Add the token words first\n",
    "vocab.add_word('<pad>')\n",
    "vocab.add_word('<start>')\n",
    "vocab.add_word('<end>')\n",
    "vocab.add_word('<unk>')\n"
   ]
  },
  {
   "cell_type": "markdown",
   "metadata": {
    "colab_type": "text",
    "id": "xzEYIvJ-GA_G"
   },
   "source": [
    "Add the rest of the words from the parsed captions:\n",
    "\n",
    "``` vocab.add_word('new_word')```\n",
    "\n",
    "We don't add words that appear three times or less."
   ]
  },
  {
   "cell_type": "code",
   "execution_count": 9,
   "metadata": {
    "colab": {
     "base_uri": "https://localhost:8080/",
     "height": 34
    },
    "colab_type": "code",
    "id": "Zj99JT2XwA4-",
    "outputId": "8d3398fa-bb19-45bf-826c-5f8423f9115d"
   },
   "outputs": [
    {
     "name": "stdout",
     "output_type": "stream",
     "text": [
      "3434\n"
     ]
    }
   ],
   "source": [
    "for word in words_list:\n",
    "  vocab.add_word(word)\n",
    "\n",
    "print(len(vocab))\n"
   ]
  },
  {
   "cell_type": "code",
   "execution_count": 0,
   "metadata": {
    "colab": {},
    "colab_type": "code",
    "id": "ChA2jcHxX0Eg"
   },
   "outputs": [],
   "source": []
  },
  {
   "cell_type": "markdown",
   "metadata": {
    "colab_type": "text",
    "id": "FB30f4wYwSvg"
   },
   "source": [
    "## Dataset and loaders for training"
   ]
  },
  {
   "cell_type": "markdown",
   "metadata": {
    "colab_type": "text",
    "id": "raEOHrpnbbKY"
   },
   "source": [
    "Keeping the same order, we concatenate all the cleaned words from each caption into a string again, and add them all to a list of strings ```cleaned_captions```. We then store all the image ids in a list ```image_ids```."
   ]
  },
  {
   "cell_type": "code",
   "execution_count": 10,
   "metadata": {
    "colab": {
     "base_uri": "https://localhost:8080/",
     "height": 71
    },
    "colab_type": "code",
    "id": "UGGnaDIRbZUs",
    "outputId": "3d9e4c5e-1b83-4b40-9fad-9e2f7f759680"
   },
   "outputs": [
    {
     "name": "stdout",
     "output_type": "stream",
     "text": [
      "['a child in a pink dress is climbing up a set of stairs in an entry way', 'a girl going into a wooden building', 'a little girl climbing into a wooden playhouse', 'a little girl climbing the stairs to her playhouse', 'a little girl in a pink dress going into a wooden cabin']\n",
      "['1000268201_693b08cb0e', '1000268201_693b08cb0e', '1000268201_693b08cb0e', '1000268201_693b08cb0e', '1000268201_693b08cb0e', '1001773457_577c3a7d70', '1001773457_577c3a7d70', '1001773457_577c3a7d70', '1001773457_577c3a7d70', '1001773457_577c3a7d70']\n"
     ]
    }
   ],
   "source": [
    "#join each element of a list into a string\n",
    "cleaned_captions=[\" \".join(char) for char in words]\n",
    "print(cleaned_captions[:5])\n",
    "\n",
    "image_ids=image_id_list\n",
    "\n",
    "image_ids=[x.split(\".\")[0] for x in image_ids]\n",
    "print(image_ids[:10])\n"
   ]
  },
  {
   "cell_type": "markdown",
   "metadata": {
    "colab_type": "text",
    "id": "0_FbII1VwVSg"
   },
   "source": [
    "The dataframe for the image paths and captions."
   ]
  },
  {
   "cell_type": "code",
   "execution_count": 11,
   "metadata": {
    "colab": {
     "base_uri": "https://localhost:8080/",
     "height": 49
    },
    "colab_type": "code",
    "id": "TYQz4T3mwA2o",
    "outputId": "d41a864a-eaab-4400-ff0e-4efebfad0c04"
   },
   "outputs": [
    {
     "data": {
      "text/html": [
       "<div>\n",
       "<style scoped>\n",
       "    .dataframe tbody tr th:only-of-type {\n",
       "        vertical-align: middle;\n",
       "    }\n",
       "\n",
       "    .dataframe tbody tr th {\n",
       "        vertical-align: top;\n",
       "    }\n",
       "\n",
       "    .dataframe thead th {\n",
       "        text-align: right;\n",
       "    }\n",
       "</style>\n",
       "<table border=\"1\" class=\"dataframe\">\n",
       "  <thead>\n",
       "    <tr style=\"text-align: right;\">\n",
       "      <th></th>\n",
       "      <th>image_id</th>\n",
       "      <th>path</th>\n",
       "      <th>caption</th>\n",
       "    </tr>\n",
       "  </thead>\n",
       "  <tbody>\n",
       "  </tbody>\n",
       "</table>\n",
       "</div>"
      ],
      "text/plain": [
       "Empty DataFrame\n",
       "Columns: [image_id, path, caption]\n",
       "Index: []"
      ]
     },
     "execution_count": 11,
     "metadata": {
      "tags": []
     },
     "output_type": "execute_result"
    }
   ],
   "source": [
    "import pandas as pd\n",
    "\n",
    "data = {\n",
    "    'image_id': image_ids,\n",
    "    'path': [image_dir + image_id + \".jpg\" for image_id in image_ids],\n",
    "    'caption': cleaned_captions\n",
    "}\n",
    "\n",
    "\n",
    "data_df = pd.DataFrame(data, columns=['image_id', 'path', 'caption'])\n",
    "\n",
    "data_df['image_id'] == \"2258277193_586949ec62\"\n",
    "\n",
    "data_df.loc[data_df['image_id'] == \"2258277193_586949ec62\"]"
   ]
  },
  {
   "cell_type": "code",
   "execution_count": 12,
   "metadata": {
    "colab": {
     "base_uri": "https://localhost:8080/",
     "height": 359
    },
    "colab_type": "code",
    "id": "POB7UiJLwYsf",
    "outputId": "a2b35c5e-0b05-49e4-8a3b-74a8e76bd896"
   },
   "outputs": [
    {
     "data": {
      "text/html": [
       "<div>\n",
       "<style scoped>\n",
       "    .dataframe tbody tr th:only-of-type {\n",
       "        vertical-align: middle;\n",
       "    }\n",
       "\n",
       "    .dataframe tbody tr th {\n",
       "        vertical-align: top;\n",
       "    }\n",
       "\n",
       "    .dataframe thead th {\n",
       "        text-align: right;\n",
       "    }\n",
       "</style>\n",
       "<table border=\"1\" class=\"dataframe\">\n",
       "  <thead>\n",
       "    <tr style=\"text-align: right;\">\n",
       "      <th></th>\n",
       "      <th>image_id</th>\n",
       "      <th>path</th>\n",
       "      <th>caption</th>\n",
       "    </tr>\n",
       "  </thead>\n",
       "  <tbody>\n",
       "    <tr>\n",
       "      <th>0</th>\n",
       "      <td>1000268201_693b08cb0e</td>\n",
       "      <td>drive/My Drive/Colab Notebooks/ai_cw_2/Flickr8...</td>\n",
       "      <td>a child in a pink dress is climbing up a set o...</td>\n",
       "    </tr>\n",
       "    <tr>\n",
       "      <th>1</th>\n",
       "      <td>1000268201_693b08cb0e</td>\n",
       "      <td>drive/My Drive/Colab Notebooks/ai_cw_2/Flickr8...</td>\n",
       "      <td>a girl going into a wooden building</td>\n",
       "    </tr>\n",
       "    <tr>\n",
       "      <th>2</th>\n",
       "      <td>1000268201_693b08cb0e</td>\n",
       "      <td>drive/My Drive/Colab Notebooks/ai_cw_2/Flickr8...</td>\n",
       "      <td>a little girl climbing into a wooden playhouse</td>\n",
       "    </tr>\n",
       "    <tr>\n",
       "      <th>3</th>\n",
       "      <td>1000268201_693b08cb0e</td>\n",
       "      <td>drive/My Drive/Colab Notebooks/ai_cw_2/Flickr8...</td>\n",
       "      <td>a little girl climbing the stairs to her playh...</td>\n",
       "    </tr>\n",
       "    <tr>\n",
       "      <th>4</th>\n",
       "      <td>1000268201_693b08cb0e</td>\n",
       "      <td>drive/My Drive/Colab Notebooks/ai_cw_2/Flickr8...</td>\n",
       "      <td>a little girl in a pink dress going into a woo...</td>\n",
       "    </tr>\n",
       "    <tr>\n",
       "      <th>5</th>\n",
       "      <td>1001773457_577c3a7d70</td>\n",
       "      <td>drive/My Drive/Colab Notebooks/ai_cw_2/Flickr8...</td>\n",
       "      <td>a black dog and a spotted dog are fighting</td>\n",
       "    </tr>\n",
       "    <tr>\n",
       "      <th>6</th>\n",
       "      <td>1001773457_577c3a7d70</td>\n",
       "      <td>drive/My Drive/Colab Notebooks/ai_cw_2/Flickr8...</td>\n",
       "      <td>a black dog and a tri-colored dog playing with...</td>\n",
       "    </tr>\n",
       "    <tr>\n",
       "      <th>7</th>\n",
       "      <td>1001773457_577c3a7d70</td>\n",
       "      <td>drive/My Drive/Colab Notebooks/ai_cw_2/Flickr8...</td>\n",
       "      <td>a black dog and a white dog with brown spots a...</td>\n",
       "    </tr>\n",
       "    <tr>\n",
       "      <th>8</th>\n",
       "      <td>1001773457_577c3a7d70</td>\n",
       "      <td>drive/My Drive/Colab Notebooks/ai_cw_2/Flickr8...</td>\n",
       "      <td>two dogs of different breeds looking at each o...</td>\n",
       "    </tr>\n",
       "    <tr>\n",
       "      <th>9</th>\n",
       "      <td>1001773457_577c3a7d70</td>\n",
       "      <td>drive/My Drive/Colab Notebooks/ai_cw_2/Flickr8...</td>\n",
       "      <td>two dogs on pavement moving toward each other</td>\n",
       "    </tr>\n",
       "  </tbody>\n",
       "</table>\n",
       "</div>"
      ],
      "text/plain": [
       "                image_id  ...                                            caption\n",
       "0  1000268201_693b08cb0e  ...  a child in a pink dress is climbing up a set o...\n",
       "1  1000268201_693b08cb0e  ...                a girl going into a wooden building\n",
       "2  1000268201_693b08cb0e  ...     a little girl climbing into a wooden playhouse\n",
       "3  1000268201_693b08cb0e  ...  a little girl climbing the stairs to her playh...\n",
       "4  1000268201_693b08cb0e  ...  a little girl in a pink dress going into a woo...\n",
       "5  1001773457_577c3a7d70  ...         a black dog and a spotted dog are fighting\n",
       "6  1001773457_577c3a7d70  ...  a black dog and a tri-colored dog playing with...\n",
       "7  1001773457_577c3a7d70  ...  a black dog and a white dog with brown spots a...\n",
       "8  1001773457_577c3a7d70  ...  two dogs of different breeds looking at each o...\n",
       "9  1001773457_577c3a7d70  ...      two dogs on pavement moving toward each other\n",
       "\n",
       "[10 rows x 3 columns]"
      ]
     },
     "execution_count": 12,
     "metadata": {
      "tags": []
     },
     "output_type": "execute_result"
    }
   ],
   "source": [
    "data_df.head(n=10)"
   ]
  },
  {
   "cell_type": "markdown",
   "metadata": {
    "colab_type": "text",
    "id": "zNLQ0K-_weJy"
   },
   "source": [
    "This is the Flickr8k class for the dataset."
   ]
  },
  {
   "cell_type": "code",
   "execution_count": 0,
   "metadata": {
    "colab": {},
    "colab_type": "code",
    "id": "wqf2_F6YwakD"
   },
   "outputs": [],
   "source": [
    "from PIL import Image\n",
    "import cv2\n",
    "from nltk import tokenize\n",
    "from torch.utils.data import Dataset\n",
    "\n",
    "class Flickr8k(Dataset):\n",
    "    \"\"\" Flickr8k custom dataset compatible with torch.utils.data.DataLoader. \"\"\"\n",
    "    \n",
    "    def __init__(self, df, vocab, transform=None):\n",
    "\n",
    "        self.df = df\n",
    "        self.vocab = vocab\n",
    "        self.transform = transform\n",
    "\n",
    "    def __getitem__(self, index):\n",
    "\n",
    "        vocab = self.vocab\n",
    "\n",
    "        caption = self.df['caption'][index]\n",
    "        img_id = self.df['image_id'][index]\n",
    "        path = self.df['path'][index]\n",
    "\n",
    "        image = Image.open(open(path, 'rb'))\n",
    "\n",
    "        if self.transform is not None:\n",
    "            image = self.transform(image)\n",
    "\n",
    "        # Convert caption (string) to word ids.\n",
    "        tokens = caption.split()\n",
    "        caption = []\n",
    "        # Build the Tensor version of the caption, with token words\n",
    "        caption.append(vocab('<start>'))\n",
    "        caption.extend([vocab(token) for token in tokens])\n",
    "        caption.append(vocab('<end>'))\n",
    "        target = torch.Tensor(caption)\n",
    "        return image, target\n",
    "\n",
    "    def __len__(self):\n",
    "        return len(self.df)"
   ]
  },
  {
   "cell_type": "markdown",
   "metadata": {
    "colab_type": "text",
    "id": "-vkld_4CwkPO"
   },
   "source": [
    "We need to overwrite the default PyTorch ```collate_fn()``` because our ground truth captions are sequential data of varying lengths. The default ```collate_fn()``` does not support merging the captions with padding.\n",
    "\n",
    "You can read more about it here: https://pytorch.org/docs/stable/data.html#dataloader-collate-fn. "
   ]
  },
  {
   "cell_type": "code",
   "execution_count": 0,
   "metadata": {
    "colab": {},
    "colab_type": "code",
    "id": "P5YmKr9ewkqO"
   },
   "outputs": [],
   "source": [
    "def caption_collate_fn(data):\n",
    "    \"\"\" Creates mini-batch tensors from the list of tuples (image, caption).\n",
    "    Args:\n",
    "        data: list of tuple (image, caption). \n",
    "            - image: torch tensor of shape (3, 256, 256).\n",
    "            - caption: torch tensor of shape (?); variable length.\n",
    "    Returns:\n",
    "        images: torch tensor of shape (batch_size, 3, 256, 256).\n",
    "        targets: torch tensor of shape (batch_size, padded_length).\n",
    "        lengths: list; valid length for each padded caption.\n",
    "    \"\"\"\n",
    "    # Sort a data list by caption length from longest to shortest.\n",
    "    data.sort(key=lambda x: len(x[1]), reverse=True)\n",
    "    images, captions = zip(*data)\n",
    "\n",
    "    # Merge images (from tuple of 3D tensor to 4D tensor).\n",
    "    images = torch.stack(images, 0)\n",
    "\n",
    "    # Merge captions (from tuple of 1D tensor to 2D tensor).\n",
    "    lengths = [len(cap) for cap in captions]\n",
    "    targets = torch.zeros(len(captions), max(lengths)).long()\n",
    "    for i, cap in enumerate(captions):\n",
    "        end = lengths[i]\n",
    "        targets[i, :end] = cap[:end]        \n",
    "    return images, targets, lengths"
   ]
  },
  {
   "cell_type": "markdown",
   "metadata": {
    "colab_type": "text",
    "id": "e6VDx2O5FSiM"
   },
   "source": [
    "Now we define the data transform."
   ]
  },
  {
   "cell_type": "code",
   "execution_count": 0,
   "metadata": {
    "colab": {},
    "colab_type": "code",
    "id": "XpRbVk6BFTGD"
   },
   "outputs": [],
   "source": [
    "from torchvision import transforms\n",
    "\n",
    "data_transform = transforms.Compose([ \n",
    "    transforms.Resize(224),\n",
    "    transforms.CenterCrop(224),  # Why do we choose 224 x 224?\n",
    "    transforms.ToTensor(),\n",
    "    transforms.Normalize((0.485, 0.456, 0.406),   # Using ImageNet norms\n",
    "                         (0.229, 0.224, 0.225))])\n",
    "\n"
   ]
  },
  {
   "cell_type": "markdown",
   "metadata": {
    "colab_type": "text",
    "id": "GgS9OpZ7FaAj"
   },
   "source": [
    "Initialising the datasets. The only twist is that every image has 5 ground truth captions, so each image appears five times in the dataframe. We don't want an image to appear in more than one set."
   ]
  },
  {
   "cell_type": "code",
   "execution_count": 0,
   "metadata": {
    "colab": {},
    "colab_type": "code",
    "id": "QnTvR684GGVV"
   },
   "outputs": [],
   "source": [
    "unit_size = 5\n",
    "import torch\n",
    "train_split = 0.95 # Defines the ratio of train/test data.\n",
    "\n",
    "# We didn't shuffle the dataframe yet so this works\n",
    "train_size = unit_size * round(len(data_df)*train_split / unit_size)\n",
    "\n",
    "dataset_train = Flickr8k(\n",
    "    df=data_df[:train_size].reset_index(drop=True),\n",
    "    vocab=vocab,\n",
    "    transform=data_transform,\n",
    ")\n",
    "\n",
    "dataset_test = Flickr8k(\n",
    "    df=data_df[(train_size):].reset_index(drop=True),\n",
    "    vocab=vocab,\n",
    "    transform=data_transform,\n",
    ")\n",
    "\n"
   ]
  },
  {
   "cell_type": "markdown",
   "metadata": {
    "colab_type": "text",
    "id": "uWuWg72dGOq9"
   },
   "source": [
    "Write the dataloaders ```train_loader``` and ```test_loader``` - explicitly replacing the collate_fn:\n",
    "\n",
    "```train_loader = torch.utils.data.DataLoader(\n",
    "  ...,\n",
    "  collate_fn=caption_collate_fn\n",
    ")```\n",
    "\n",
    "Set train batch size to 128 and be sure to set ```shuffle=True```"
   ]
  },
  {
   "cell_type": "code",
   "execution_count": 0,
   "metadata": {
    "colab": {},
    "colab_type": "code",
    "id": "KkNrIRbXGLFG"
   },
   "outputs": [],
   "source": [
    "import torch\n",
    "\n",
    "train_loader = torch.utils.data.DataLoader(\n",
    "    dataset_train,\n",
    "    batch_size=128,\n",
    "    shuffle=True,\n",
    "    num_workers=2,\n",
    "    collate_fn=caption_collate_fn\n",
    ")\n",
    "\n",
    "test_loader = torch.utils.data.DataLoader(\n",
    "    dataset_test,\n",
    "    batch_size=5, \n",
    "    shuffle=False,\n",
    "    num_workers=2,\n",
    "    collate_fn=caption_collate_fn\n",
    ")\n",
    "\n",
    "\n"
   ]
  },
  {
   "cell_type": "markdown",
   "metadata": {
    "colab_type": "text",
    "id": "oXlf8lt5TF0N"
   },
   "source": [
    "## Encoder and decoder models"
   ]
  },
  {
   "cell_type": "code",
   "execution_count": 0,
   "metadata": {
    "colab": {},
    "colab_type": "code",
    "id": "ls8lyXA2GTC0"
   },
   "outputs": [],
   "source": [
    "import torch\n",
    "import torch.nn as nn\n",
    "import torchvision.models as models\n",
    "from torch.nn.utils.rnn import pack_padded_sequence\n",
    "\n",
    "class EncoderCNN(nn.Module):\n",
    "    def __init__(self, embed_size):\n",
    "        \"\"\"Load the pretrained ResNet-152 and replace top fc layer.\"\"\"\n",
    "        super(EncoderCNN, self).__init__()\n",
    "        resnet = models.resnet152(pretrained=True) # Pre-trained on ImageNet by default\n",
    "        layers = list(resnet.children())[:-1]      # Keep all layers except the last one\n",
    "        # Unpack the layers and create a new Sequential\n",
    "        self.resnet = nn.Sequential(*layers)\n",
    "        \n",
    "        self.linear = nn.Linear(resnet.fc.in_features, embed_size)\n",
    "        \n",
    "        self.bn = nn.BatchNorm1d(embed_size, momentum=0.01)\n",
    "        \n",
    "    def forward(self, images):\n",
    "        \"\"\"Extract feature vectors from input images.\"\"\"\n",
    "        with torch.no_grad():\n",
    "            features = self.resnet(images)\n",
    "        features = features.reshape(features.size(0), -1)\n",
    "        features = self.bn(self.linear(features))\n",
    "        return features\n",
    "\n",
    "\n",
    "class DecoderRNN(nn.Module):\n",
    "    def __init__(self, embed_size, hidden_size, vocab_size, num_layers, max_seq_length=20):\n",
    "        \"\"\"Set the hyper-parameters and build the layers.\"\"\"\n",
    "        super(DecoderRNN, self).__init__()\n",
    "        \n",
    "        # What is an embedding layer?\n",
    "        self.embed = nn.Embedding(vocab_size, embed_size)\n",
    "        #self.rnn = nn.RNN(input_size=embed_size, hidden_size=hidden_size, num_layers=num_layers, batch_first=True)\n",
    "        self.lstm = nn.LSTM(input_size=embed_size, hidden_size=hidden_size, num_layers=num_layers, batch_first=True)\n",
    "        \n",
    "        self.linear = nn.Linear(hidden_size, vocab_size)\n",
    "        self.max_seq_length = max_seq_length\n",
    "        \n",
    "    def forward(self, features, captions, lengths):\n",
    "        \"\"\"Decode image feature vectors and generates captions.\"\"\"\n",
    "        embeddings = self.embed(captions)\n",
    "        embeddings = torch.cat((features.unsqueeze(1), embeddings), 1)\n",
    "        packed = pack_padded_sequence(embeddings, lengths, batch_first=True) \n",
    "        hiddens, _ = self.lstm(packed) # Replace with self.rnn when using RNN\n",
    "        #hiddens, _ = self.rnn(packed) # Replace with self.rnn when using RNN\n",
    "        outputs = self.linear(hiddens[0])\n",
    "        return outputs\n",
    "    \n",
    "    def sample(self, features, states=None):\n",
    "        \"\"\"Generate captions for given image features using greedy search.\"\"\"\n",
    "        sampled_ids = []\n",
    "        inputs = features.unsqueeze(1)\n",
    "        for i in range(self.max_seq_length):\n",
    "            hiddens, states = self.lstm(inputs, states)          # hiddens: (batch_size, 1, hidden_size) # replaced with rnn\n",
    "            outputs = self.linear(hiddens.squeeze(1))            # outputs:  (batch_size, vocab_size)\n",
    "            _, predicted = outputs.max(1)                        # predicted: (batch_size)\n",
    "            sampled_ids.append(predicted)\n",
    "            inputs = self.embed(predicted)                       # inputs: (batch_size, embed_size)\n",
    "            inputs = inputs.unsqueeze(1)                         # inputs: (batch_size, 1, embed_size)\n",
    "        sampled_ids = torch.stack(sampled_ids, 1)                # sampled_ids: (batch_size, max_seq_length)\n",
    "        return sampled_ids\n",
    "\n",
    "\n",
    "\n"
   ]
  },
  {
   "cell_type": "code",
   "execution_count": 150,
   "metadata": {
    "colab": {
     "base_uri": "https://localhost:8080/",
     "height": 34
    },
    "colab_type": "code",
    "id": "C9-qtkkMTrtB",
    "outputId": "331a8eff-4fc7-4a96-ea3e-1abe8451d9c4"
   },
   "outputs": [
    {
     "data": {
      "text/plain": [
       "device(type='cuda')"
      ]
     },
     "execution_count": 150,
     "metadata": {
      "tags": []
     },
     "output_type": "execute_result"
    }
   ],
   "source": [
    "# Device configuration\n",
    "device = torch.device('cuda' if torch.cuda.is_available() else 'cpu')\n",
    "device\n"
   ]
  },
  {
   "cell_type": "markdown",
   "metadata": {
    "colab_type": "text",
    "id": "dhecFOMRUgpe"
   },
   "source": [
    "Set training parameters."
   ]
  },
  {
   "cell_type": "code",
   "execution_count": 0,
   "metadata": {
    "colab": {},
    "colab_type": "code",
    "id": "4Fd2-IX2Uer3"
   },
   "outputs": [],
   "source": [
    "embed_size = 256\n",
    "hidden_size = 512\n",
    "num_layers = 1\n",
    "learning_rate = 0.001\n",
    "num_epochs = 5\n",
    "log_step = 10\n",
    "save_step = 1"
   ]
  },
  {
   "cell_type": "markdown",
   "metadata": {
    "colab_type": "text",
    "id": "AlIwF6P8UgB4"
   },
   "source": [
    "Initialize the models and set the learning parameters."
   ]
  },
  {
   "cell_type": "code",
   "execution_count": 0,
   "metadata": {
    "colab": {},
    "colab_type": "code",
    "id": "uxwDUlR2Uy7t"
   },
   "outputs": [],
   "source": [
    "import numpy as np\n",
    "\n",
    "# Build the models\n",
    "encoder = EncoderCNN(embed_size).to(device)\n",
    "decoder = DecoderRNN(embed_size, hidden_size, len(vocab), num_layers).to(device)\n",
    "\n",
    "# Loss and optimizer\n",
    "criterion = nn.CrossEntropyLoss()\n",
    "\n",
    "# Optimisation will be on the parameters of BOTH the enocder and decoder,\n",
    "# but excluding the ResNet parameters, only the new added layers.\n",
    "params = list(\n",
    "    decoder.parameters()) + list(encoder.linear.parameters()) + list(encoder.bn.parameters()\n",
    ")\n",
    "\n",
    "optimizer = torch.optim.Adam(params, lr=learning_rate)\n"
   ]
  },
  {
   "cell_type": "code",
   "execution_count": 0,
   "metadata": {
    "colab": {},
    "colab_type": "code",
    "id": "trxTtzy_qXZY"
   },
   "outputs": [],
   "source": []
  },
  {
   "cell_type": "markdown",
   "metadata": {
    "colab_type": "text",
    "id": "RUmSb2MHEZw3"
   },
   "source": [
    "\n"
   ]
  },
  {
   "cell_type": "markdown",
   "metadata": {
    "colab_type": "text",
    "id": "uS4oN21vNKu7"
   },
   "source": [
    "A set of functions to generate sample captions displayed with images.\n"
   ]
  },
  {
   "cell_type": "code",
   "execution_count": 0,
   "metadata": {
    "colab": {},
    "colab_type": "code",
    "id": "wUiltjxODi7N"
   },
   "outputs": [],
   "source": [
    "from torchvision.utils import make_grid\n",
    "import numpy as np\n",
    "import matplotlib.pyplot as plt\n",
    "import torch\n",
    "import argparse\n",
    "import pickle \n",
    "import os\n",
    "from torchvision import transforms \n",
    "from PIL import Image\n",
    "\n",
    "from torch.autograd import Variable\n",
    "\n",
    "#!pip install q nltk==3.5\n",
    "import nltk\n",
    "from nltk.translate.bleu_score import sentence_bleu\n",
    "from nltk.translate.bleu_score import SmoothingFunction\n",
    "\n",
    "#print('The nltk version is {}.'.format(nltk.__version__))\n",
    "\n",
    "def to_var(x):\n",
    "    if torch.cuda.is_available():\n",
    "        x = x.cuda()\n",
    "    return Variable(x)\n",
    "\n",
    "def imshow(inp, figsize=None, title=None):\n",
    "    if figsize != None:\n",
    "        plt.figure(figsize=figsize)\n",
    "    \"\"\"Imshow for Tensor.\"\"\"\n",
    "    inp = inp.numpy().transpose((1, 2, 0))\n",
    "    mean = np.array([0.485, 0.456, 0.406])\n",
    "    std = np.array([0.229, 0.224, 0.225])\n",
    "    inp = std * inp + mean\n",
    "    inp = np.clip(inp, 0, 1)\n",
    "    plt.imshow(inp)\n",
    "    if title is not None:\n",
    "        plt.title(title)\n",
    "    plt.pause(0.001)  \n",
    "    plt.show()\n",
    "\n",
    "def get_sentence(caption_tensor): \n",
    "    # Convert word_ids to words\n",
    "    sampled_caption = []\n",
    "    for word_id in caption_tensor:\n",
    "        word = vocab.idx2word[word_id]\n",
    "        sampled_caption.append(word)\n",
    "        if word == '<end>':\n",
    "            break\n",
    "    sentence = ' '.join(sampled_caption[1:-1])\n",
    "    return sentence\n",
    "\n",
    "def transform():\n",
    "  transformed_image = transforms.Compose([ \n",
    "  transforms.Resize(224),\n",
    "  transforms.CenterCrop(224),  # Why do we choose 224 x 224?\n",
    "  transforms.ToTensor(),\n",
    "  transforms.Normalize((0.485, 0.456, 0.406),   # Using ImageNet norms\n",
    "                        (0.229, 0.224, 0.225))])\n",
    "  return transformed_image\n",
    "\n",
    "\n",
    "def find_captions(caption_tensors):\n",
    "    reference_captions = []\n",
    "\n",
    "    for i in range(5):\n",
    "      reference_captions.append(get_sentence(caption_tensors[i]))\n",
    "\n",
    "    return reference_captions\n",
    "\n",
    "def get_sample_2():\n",
    "    score_list=[]\n",
    "    test_iterator = iter(test_loader)\n",
    "    encoder.eval()\n",
    "    for i in range(2):\n",
    "      images, captions, lengths = next(test_iterator)\n",
    "      images, captions, lengths = next(test_iterator)\n",
    "      images, captions, lengths = next(test_iterator)\n",
    "      images, captions, lengths = next(test_iterator)\n",
    "      images, captions, lengths = next(test_iterator)\n",
    "      images, captions, lengths = next(test_iterator)\n",
    "      images, captions, lengths = next(test_iterator)\n",
    "      images, captions, lengths = next(test_iterator)\n",
    "      images, captions, lengths = next(test_iterator)\n",
    "      images, captions, lengths = next(test_iterator)\n",
    "      images, captions, lengths = next(test_iterator)\n",
    "\n",
    "      images = images.to(device)\n",
    "      captions = captions.to(device)\n",
    "      features = encoder(images)\n",
    "\n",
    "      sample_ids = decoder.sample(features)\n",
    "      sample_ids=sample_ids.cpu().numpy()\n",
    "      generated_sentence=get_sentence(sample_ids[0])\n",
    "      print(generated_sentence)\n",
    "      \n",
    "      true_ids = captions.cpu().numpy()\n",
    "      sentence_true = find_captions(true_ids)\n",
    "\n",
    "      #split the string into words to calculate bleu score for both true caption and generated caption\n",
    "      # TRUE CAPTION SPLIT\n",
    "      sentence_true_words=[ [i] for i in sentence_true]\n",
    "      sentence_true_words=[ string[0].split() for string  in sentence_true_words]\n",
    "      \n",
    "      #GENERATED CAPTION SPLIT\n",
    "      generated_sentence_words=list(generated_sentence.split())\n",
    "   \n",
    "      #calculate bleu score\n",
    "      score = sentence_bleu(sentence_true_words, generated_sentence_words, weights=(0.45, 0.35, 0.10, 0.10), smoothing_function=SmoothingFunction().method7)\n",
    "      print(\"Bleu score for generated caption: {}\".format(score))\n",
    "\n",
    "      out = make_grid(images[0])\n",
    "      out=out.cpu()\n",
    "      imshow(out, figsize=(10,6), title='Target: %s\\nPrediction: %s' % (sentence_true, generated_sentence))\n",
    "\n",
    "      score_list.append(score)\n",
    "      \n",
    "    encoder.train()\n",
    "    return score_list\n"
   ]
  },
  {
   "cell_type": "code",
   "execution_count": 0,
   "metadata": {
    "colab": {},
    "colab_type": "code",
    "id": "3HQ4cVOp0p74"
   },
   "outputs": [],
   "source": []
  },
  {
   "cell_type": "markdown",
   "metadata": {
    "colab_type": "text",
    "id": "lYgiayFGqk9Z"
   },
   "source": [
    "## TRAINING "
   ]
  },
  {
   "cell_type": "code",
   "execution_count": 0,
   "metadata": {
    "colab": {},
    "colab_type": "code",
    "id": "6PdrTSRuFWib"
   },
   "outputs": [],
   "source": [
    "\n",
    "\n",
    "total_step = len(train_loader)\n",
    "\n",
    "#uncomment when running RNN\n",
    "# bleu_scoreRNN_list =[]\n",
    "# loss_rnn=[]\n",
    "\n",
    "\n",
    "bleu_scoreLSTM_list=[]\n",
    "loss_lstm=[]\n",
    "\n",
    "file_name = \"checkpoint.pth\"\n",
    "\n",
    "print(\"__________________Before training__________________\")\n",
    "get_sample_2()\n",
    "\n",
    "for epoch in range(num_epochs):\n",
    "    for i, (images, captions, lengths) in enumerate(train_loader):\n",
    "\n",
    "        # Set mini-batch dataset\n",
    "        images = images.to(device)\n",
    "        captions = captions.to(device)\n",
    "\n",
    "        # Packed as well as we'll compare to the decoder outputs\n",
    "        targets = pack_padded_sequence(captions, lengths, batch_first=True)[0]\n",
    "\n",
    "        # Forward, backward and optimize\n",
    "        features = encoder(images)\n",
    "        outputs = decoder(features, captions, lengths)\n",
    "\n",
    "        loss = criterion(outputs, targets)\n",
    "        \n",
    "        # Zero gradients for both networks\n",
    "        decoder.zero_grad()\n",
    "        encoder.zero_grad()\n",
    "\n",
    "        loss.backward()\n",
    "        optimizer.step()\n",
    "\n",
    "        # Print log info\n",
    "        if i % log_step == 0:\n",
    "            print('Epoch [{}/{}], Step [{}/{}], Loss: {:.4f}'\n",
    "                  .format(epoch, num_epochs, i, total_step, loss.item()))\n",
    "\n",
    "    #     if (i+1) % save_step == 0:\n",
    "    #       torch.save(encoder.state_dict(), file_name + '-RNNencoder.ckpt')\n",
    "    #       torch.save(decoder.state_dict(), file_name + '-RNNdecoder.ckpt')\n",
    "    # print('Generated captions after epoch: {}'.format(epoch+1))\n",
    "    x=get_sample_2()\n",
    "\n",
    "\n",
    "    # bleu_scoreRNN_list.append(x)\n",
    "    # loss_rnn.append(loss.item(x))\n",
    "\n",
    "\n",
    "    bleu_scoreLSTM_list.append(x)\n",
    "    loss_lstm.append(loss.item(x))\n",
    "\n",
    "                    \n"
   ]
  },
  {
   "cell_type": "code",
   "execution_count": 0,
   "metadata": {
    "colab": {},
    "colab_type": "code",
    "id": "Z1cuWKmwxcMx"
   },
   "outputs": [],
   "source": [
    "score1RNN=[el[0] for el in bleu_scoreRNN_list]\n",
    "score2RNN=[el[1] for el in bleu_scoreRNN_list]  \n",
    "\n",
    "\n",
    "score1LSTM=[el[0] for el in bleu_scoreLSTM_list]\n",
    "score2LSTM=[el[1] for el in bleu_scoreLSTM_list]  \n",
    "\n"
   ]
  },
  {
   "cell_type": "code",
   "execution_count": 0,
   "metadata": {
    "colab": {},
    "colab_type": "code",
    "id": "Jv2R-DHW61p4"
   },
   "outputs": [],
   "source": [
    "# bleu score for first image rnn [0.5153939645243383, 0.5782537389840694, 0.5105593001127932, 0.45272728894361675, 0.6022782201270712]\n",
    "# bleu score for second image rnn [0.5019846346860442, 0.42427489304239147, 0.6442534123707138, 0.4723402003873197, 0.4465502347955529]\n",
    "# loss rnn [2.8743698596954346, 2.7102692127227783, 2.702296733856201, 2.4979448318481445, 2.552945137023926]\n"
   ]
  },
  {
   "cell_type": "markdown",
   "metadata": {},
   "source": [
    "Loss plotting "
   ]
  },
  {
   "cell_type": "code",
   "execution_count": 64,
   "metadata": {
    "colab": {
     "base_uri": "https://localhost:8080/",
     "height": 295
    },
    "colab_type": "code",
    "id": "LXjroCPgKvDR",
    "outputId": "f4281b34-f4cb-4e9b-abfb-6f8178959148"
   },
   "outputs": [
    {
     "data": {
      "image/png": "[encoded data removed]",
      "text/plain": [
       "<Figure size 432x288 with 1 Axes>"
      ]
     },
     "metadata": {
      "needs_background": "light",
      "tags": []
     },
     "output_type": "display_data"
    }
   ],
   "source": [
    "\n",
    "\n",
    "def plot_loss(loss_lstm, loss_rnn):\n",
    "    x = np.arange(0, 5)\n",
    "\n",
    "    plt.figure()\n",
    "    plt.plot(x, loss_lstm, \"r\", linewidth=1, label=\"loss LSTM\")\n",
    "\n",
    "    plt.plot(x, loss_rnn, \"b\", linewidth=1, label=\"loss RNN\")\n",
    "\n",
    "    plt.xlabel(\"epoch\")\n",
    "    plt.ylabel(\"loss\")\n",
    "    plt.title(\"Loss of LSTM and RNN\")\n",
    "    plt.legend()\n",
    "    plt.show()\n",
    "    \n",
    "plot_loss(loss_lstm, loss_rnn)"
   ]
  },
  {
   "cell_type": "markdown",
   "metadata": {
    "colab_type": "text",
    "id": "rzh_vNwbrEF1"
   },
   "source": [
    "##Model's evaluation"
   ]
  },
  {
   "cell_type": "code",
   "execution_count": 0,
   "metadata": {
    "colab": {},
    "colab_type": "code",
    "id": "LztSIRm-r1KE"
   },
   "outputs": [],
   "source": [
    "\n",
    "# GENERATE SAMPLE OF 5 IMAGES ALONG WITH CAPTIONS AND BLEU SCORES\n",
    "\n",
    "def get_sample_5():\n",
    "    generated_list=[]\n",
    "    test_iterator = iter(test_loader)\n",
    "    encoder.eval()\n",
    "    for i in range(5):\n",
    "      images, captions, lengths = next(test_iterator)\n",
    "      images, captions, lengths = next(test_iterator)\n",
    "      images, captions, lengths = next(test_iterator)\n",
    "      images, captions, lengths = next(test_iterator)\n",
    "      images, captions, lengths = next(test_iterator)\n",
    "      images, captions, lengths = next(test_iterator)\n",
    "      images, captions, lengths = next(test_iterator)\n",
    "      images, captions, lengths = next(test_iterator)\n",
    "      images, captions, lengths = next(test_iterator)\n",
    "      images, captions, lengths = next(test_iterator)\n",
    "      images = images.to(device)\n",
    "      captions = captions.to(device)\n",
    "      features = encoder(images)\n",
    "      print()\n",
    "\n",
    "      sample_ids = decoder.sample(features)\n",
    "      sample_ids=sample_ids.cpu().numpy()\n",
    "      generated_sentence=get_sentence(sample_ids[0])\n",
    "      \n",
    "      true_ids = captions.cpu().numpy()\n",
    "      sentence_true = find_captions(true_ids)\n",
    "\n",
    "      #split the string into words to calculate bleu score for both true caption and generated caption\n",
    "      # TRUE CAPTION SPLIT\n",
    "      sentence_true_words=[ [i] for i in sentence_true]\n",
    "      sentence_true_words=[ string[0].split() for string  in sentence_true_words]\n",
    "      #print(sentence_true_words)\n",
    "      \n",
    "      #GENERATED CAPTION SPLIT\n",
    "      generated_sentence_words=list(generated_sentence.split())\n",
    "   \n",
    "      #calculate bleu score\n",
    "      score = sentence_bleu(sentence_true_words, generated_sentence_words, weights=(0.45, 0.35, 0.1, 0.1), smoothing_function=SmoothingFunction().method7) \n",
    "      print(\"Bleu score for generated caption: {}\".format(score))\n",
    "\n",
    "      #display image\n",
    "      out = make_grid(images[0])\n",
    "      out=out.cpu()\n",
    "      imshow(out, figsize=(10,6), title='Target: %s\\nPrediction: %s' % (sentence_true, generated_sentence))\n",
    "      generated_list.append(generated_sentence)\n",
    "\n",
    "    encoder.train()\n",
    "    return generated_list\n",
    "\n",
    "\n",
    "get_sample_5()"
   ]
  },
  {
   "cell_type": "code",
   "execution_count": 156,
   "metadata": {
    "colab": {
     "base_uri": "https://localhost:8080/",
     "height": 34
    },
    "colab_type": "code",
    "id": "edfV8XuidR-W",
    "outputId": "13be4c03-6905-47bc-85d3-7ba26dfe5255"
   },
   "outputs": [
    {
     "name": "stdout",
     "output_type": "stream",
     "text": [
      "0.48773541110981267\n"
     ]
    }
   ],
   "source": [
    "#calculate Bleu score over the whole test set\n",
    "\n",
    "def bleu_score_test():\n",
    "  score_total=0\n",
    "  for i, (images, captions, lengths) in enumerate(test_loader):\n",
    "    images = images.to(device)\n",
    "    captions = captions.to(device)\n",
    "    features = encoder(images)\n",
    "    encoder.eval()\n",
    "\n",
    "    sample_ids = decoder.sample(features)\n",
    "    sample_ids=sample_ids.cpu().numpy()\n",
    "    generated_sentence=get_sentence(sample_ids[0])\n",
    "    \n",
    "    true_ids = captions.cpu().numpy()\n",
    "    sentence_true = find_captions(true_ids)\n",
    "\n",
    "    sentence_true_words=[ [i] for i in sentence_true]\n",
    "    sentence_true_words=[ string[0].split() for string  in sentence_true_words]\n",
    "\n",
    "    generated_sentence_words=list(generated_sentence.split())\n",
    "  \n",
    "    #calculate bleu score\n",
    "    score = sentence_bleu(sentence_true_words, generated_sentence_words, weights=(0.45, 0.35, 0.1, 0.1), smoothing_function=SmoothingFunction().method7) \n",
    "    #print(\"Bleu score for generated caption: {}\".format(score))\n",
    "\n",
    "    score_total+=score\n",
    "  print(score_total/len(test_loader))\n",
    "  \n",
    "  \n",
    "    \n",
    "\n",
    "bleu_score_test()"
   ]
  },
  {
   "cell_type": "code",
   "execution_count": 157,
   "metadata": {
    "colab": {
     "base_uri": "https://localhost:8080/",
     "height": 85
    },
    "colab_type": "code",
    "id": "_iQQ7qCpGMM0",
    "outputId": "a7579ef2-7336-49ab-8d13-abafbf37e391"
   },
   "outputs": [
    {
     "name": "stdout",
     "output_type": "stream",
     "text": [
      "Number of short captions:233\n",
      "Number of long captions:172\n",
      "Bleu score for short caption: 0.4259603787052534\n",
      "Bleu score for long caption: 0.38259930514032164\n"
     ]
    }
   ],
   "source": [
    "# CALCULATES PERFORMANCE ON SHORT VS LONG CAPTIONS\n",
    "\n",
    "from nltk import flatten\n",
    "\n",
    "def long_short():\n",
    "  long_caption_generated=[]\n",
    "  long_caption_ref=[]\n",
    "  short_caption_generated=[]\n",
    "  short_caption_ref=[]\n",
    "  for i, (images, captions, lengths) in enumerate(test_loader):\n",
    "    images = images.to(device)\n",
    "    captions = captions.to(device)\n",
    "    features = encoder(images)\n",
    "    encoder.eval()\n",
    "\n",
    "    sample_ids = decoder.sample(features)\n",
    "    sample_ids=sample_ids.cpu().numpy()\n",
    "    generated_sentence=get_sentence(sample_ids[0])\n",
    "    \n",
    "    true_ids = captions.cpu().numpy()\n",
    "    sentence_true = find_captions(true_ids)\n",
    "\n",
    "    sentence_true_words=[ [i] for i in sentence_true]\n",
    "    sentence_true_words=[ string[0].split() for string  in sentence_true_words]\n",
    "\n",
    "    generated_sentence_words=list(generated_sentence.split())\n",
    "\n",
    "    gen_len=len(generated_sentence_words)\n",
    "    true_len=len(flatten(sentence_true_words))/5\n",
    "\n",
    "    if gen_len > true_len :\n",
    "      long_caption_generated.append(generated_sentence_words)\n",
    "      long_caption_ref.append(sentence_true_words)\n",
    "    else:\n",
    "      short_caption_generated.append(generated_sentence_words)\n",
    "      short_caption_ref.append(sentence_true_words)\n",
    "\n",
    "\n",
    "  bleu_score_long=corpus_bleu(long_caption_ref, long_caption_generated, weights=(0.45, 0.35, 0.1, 0.1), smoothing_function=SmoothingFunction().method7)\n",
    "  bleu_score_short=corpus_bleu(short_caption_ref, short_caption_generated,weights=(0.45, 0.35, 0.1, 0.1), smoothing_function=SmoothingFunction().method7)\n",
    "    \n",
    "  print(\"Number of short captions:{}\".format(len(short_caption_generated)))\n",
    "  print(\"Number of long captions:{}\".format(len(long_caption_generated)))\n",
    "\n",
    "    \n",
    "  print(\"Bleu score for short caption: {}\".format(bleu_score_short))\n",
    "  print(\"Bleu score for long caption: {}\".format(bleu_score_long))\n",
    "\n",
    "long_short()"
   ]
  }
 ],
 "metadata": {
  "accelerator": "GPU",
  "colab": {
   "collapsed_sections": [],
   "machine_shape": "hm",
   "name": "COMP5623_CW2_Starter.ipynb",
   "provenance": []
  },
  "kernelspec": {
   "display_name": "Python 3",
   "language": "python",
   "name": "python3"
  },
  "language_info": {
   "codemirror_mode": {
    "name": "ipython",
    "version": 3
   },
   "file_extension": ".py",
   "mimetype": "text/x-python",
   "name": "python",
   "nbconvert_exporter": "python",
   "pygments_lexer": "ipython3",
   "version": "3.8.3"
  }
 },
 "nbformat": 4,
 "nbformat_minor": 1
}
