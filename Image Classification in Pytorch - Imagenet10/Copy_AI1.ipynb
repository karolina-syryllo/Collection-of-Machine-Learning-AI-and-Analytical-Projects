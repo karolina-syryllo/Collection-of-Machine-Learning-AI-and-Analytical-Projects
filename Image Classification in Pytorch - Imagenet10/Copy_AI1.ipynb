{
 "cells": [
  {
   "cell_type": "markdown",
   "metadata": {
    "colab_type": "text",
    "id": "IdnsT8VYCSYF"
   },
   "source": [
    "## COMP5623 Coursework on Image Classification with Convolutional Neural Networks \n",
    "\n",
    "Starter code."
   ]
  },
  {
   "cell_type": "code",
   "execution_count": 0,
   "metadata": {
    "colab": {},
    "colab_type": "code",
    "id": "eKS20wjsCSYI"
   },
   "outputs": [],
   "source": [
    "import torch\n",
    "import torchvision\n",
    "import torch.optim as optim\n",
    "import torch.nn as nn\n",
    "import torchvision.transforms as transforms\n",
    "from  torch.utils.data import Dataset\n",
    "\n",
    "from sklearn.metrics import confusion_matrix\n",
    "from skimage import io, transform\n",
    "\n",
    "import matplotlib.pyplot as plt\n",
    "from tqdm import tqdm\n",
    "from PIL import Image\n",
    "import pandas as pd\n",
    "import numpy as np\n",
    "import csv\n",
    "import os\n",
    "import math\n",
    "import cv2"
   ]
  },
  {
   "cell_type": "markdown",
   "metadata": {
    "colab_type": "text",
    "id": "IpRGGlofCSYM"
   },
   "source": [
    "### Filter Visualization\n",
    "\n",
    "The first part of the assignment is to build a CNN and train it on a subset of the ImageNet dataset. We will first create a dataframe with all the references to the images and their labels.\n",
    "\n",
    "To download the images into your work environment, clone into a git respository containing the images."
   ]
  },
  {
   "cell_type": "markdown",
   "metadata": {
    "colab_type": "text",
    "id": "zyRlGy_e2rcJ"
   },
   "source": []
  },
  {
   "cell_type": "code",
   "execution_count": 3,
   "metadata": {
    "colab": {
     "base_uri": "https://localhost:8080/",
     "height": 33
    },
    "colab_type": "code",
    "id": "EqhQboSCCSYN",
    "outputId": "21bdf395-0c5d-48d9-b952-5c2fbe6ee07c"
   },
   "outputs": [
    {
     "name": "stdout",
     "output_type": "stream",
     "text": [
      "fatal: destination path 'imagenet10' already exists and is not an empty directory.\n"
     ]
    }
   ],
   "source": [
    "! git clone https://github.com/MohammedAlghamdi/imagenet10.git"
   ]
  },
  {
   "cell_type": "markdown",
   "metadata": {
    "colab_type": "text",
    "id": "8edZnYShg7M1"
   },
   "source": [
    "Check that the repository is there:"
   ]
  },
  {
   "cell_type": "code",
   "execution_count": 4,
   "metadata": {
    "colab": {
     "base_uri": "https://localhost:8080/",
     "height": 33
    },
    "colab_type": "code",
    "id": "i2RIZGHaCVAC",
    "outputId": "3c100cd2-9104-441a-dab5-c4c82c207247"
   },
   "outputs": [
    {
     "name": "stdout",
     "output_type": "stream",
     "text": [
      "imagenet10  sample_data\n"
     ]
    }
   ],
   "source": [
    "! ls"
   ]
  },
  {
   "cell_type": "code",
   "execution_count": 0,
   "metadata": {
    "colab": {},
    "colab_type": "code",
    "id": "47tv-wIQCTcS"
   },
   "outputs": [],
   "source": [
    "root_dir = \"imagenet10/train_set/\"\n",
    "class_names = [\n",
    "  \"baboon\",\n",
    "  \"banana\",\n",
    "  \"canoe\",\n",
    "  \"cat\",\n",
    "  \"desk\",\n",
    "  \"drill\",\n",
    "  \"dumbbell\",\n",
    "  \"football\",\n",
    "  \"mug\",\n",
    "  \"orange\",\n",
    "]"
   ]
  },
  {
   "cell_type": "markdown",
   "metadata": {
    "colab_type": "text",
    "id": "L6oMdWl5CSYR"
   },
   "source": [
    "A helper function for reading in images and assigning labels."
   ]
  },
  {
   "cell_type": "code",
   "execution_count": 0,
   "metadata": {
    "colab": {},
    "colab_type": "code",
    "id": "tQfcD3jyCSYT"
   },
   "outputs": [],
   "source": [
    "def get_meta(root_dir, dirs):\n",
    "    paths, classes = [], []\n",
    "    for i, dir_ in enumerate(dirs):\n",
    "        for entry in os.scandir(root_dir + dir_):\n",
    "            if (entry.is_file()):\n",
    "                paths.append(entry.path)\n",
    "                classes.append(i)\n",
    "                \n",
    "    return paths, classes"
   ]
  },
  {
   "cell_type": "markdown",
   "metadata": {
    "colab_type": "text",
    "id": "0J967KW0CSYX"
   },
   "source": [
    "Now we create a dataframe using all the data."
   ]
  },
  {
   "cell_type": "code",
   "execution_count": 0,
   "metadata": {
    "colab": {},
    "colab_type": "code",
    "id": "8gDPs1NCCSYY"
   },
   "outputs": [],
   "source": [
    "\n",
    "paths, classes = get_meta(root_dir, class_names)\n",
    "\n",
    "data = {\n",
    "    'path': paths,\n",
    "    'class': classes\n",
    "}\n",
    "\n",
    "data_df = pd.DataFrame(data, columns=['path', 'class'])\n",
    "data_df = data_df.sample(frac=1).reset_index(drop=True) # that shuffles the data"
   ]
  },
  {
   "cell_type": "markdown",
   "metadata": {
    "colab_type": "text",
    "id": "jRUDj3WihItY"
   },
   "source": [
    "View some sample data."
   ]
  },
  {
   "cell_type": "code",
   "execution_count": 8,
   "metadata": {
    "colab": {
     "base_uri": "https://localhost:8080/",
     "height": 213
    },
    "colab_type": "code",
    "id": "mK2GPzfVCSYc",
    "outputId": "0d595a86-7dfc-4cce-f65a-4a02b512d494"
   },
   "outputs": [
    {
     "name": "stdout",
     "output_type": "stream",
     "text": [
      "Found 9000 images.\n"
     ]
    },
    {
     "data": {
      "text/html": [
       "<div>\n",
       "<style scoped>\n",
       "    .dataframe tbody tr th:only-of-type {\n",
       "        vertical-align: middle;\n",
       "    }\n",
       "\n",
       "    .dataframe tbody tr th {\n",
       "        vertical-align: top;\n",
       "    }\n",
       "\n",
       "    .dataframe thead th {\n",
       "        text-align: right;\n",
       "    }\n",
       "</style>\n",
       "<table border=\"1\" class=\"dataframe\">\n",
       "  <thead>\n",
       "    <tr style=\"text-align: right;\">\n",
       "      <th></th>\n",
       "      <th>path</th>\n",
       "      <th>class</th>\n",
       "    </tr>\n",
       "  </thead>\n",
       "  <tbody>\n",
       "    <tr>\n",
       "      <th>0</th>\n",
       "      <td>imagenet10/train_set/banana/n07753592_787.JPEG</td>\n",
       "      <td>1</td>\n",
       "    </tr>\n",
       "    <tr>\n",
       "      <th>1</th>\n",
       "      <td>imagenet10/train_set/drill/n03239726_1895.JPEG</td>\n",
       "      <td>5</td>\n",
       "    </tr>\n",
       "    <tr>\n",
       "      <th>2</th>\n",
       "      <td>imagenet10/train_set/mug/n03797390_7000.JPEG</td>\n",
       "      <td>8</td>\n",
       "    </tr>\n",
       "    <tr>\n",
       "      <th>3</th>\n",
       "      <td>imagenet10/train_set/baboon/n02486410_3255.JPEG</td>\n",
       "      <td>0</td>\n",
       "    </tr>\n",
       "    <tr>\n",
       "      <th>4</th>\n",
       "      <td>imagenet10/train_set/baboon/n02486410_3715.JPEG</td>\n",
       "      <td>0</td>\n",
       "    </tr>\n",
       "  </tbody>\n",
       "</table>\n",
       "</div>"
      ],
      "text/plain": [
       "                                              path  class\n",
       "0   imagenet10/train_set/banana/n07753592_787.JPEG      1\n",
       "1   imagenet10/train_set/drill/n03239726_1895.JPEG      5\n",
       "2     imagenet10/train_set/mug/n03797390_7000.JPEG      8\n",
       "3  imagenet10/train_set/baboon/n02486410_3255.JPEG      0\n",
       "4  imagenet10/train_set/baboon/n02486410_3715.JPEG      0"
      ]
     },
     "execution_count": 8,
     "metadata": {
      "tags": []
     },
     "output_type": "execute_result"
    }
   ],
   "source": [
    "print(\"Found\", len(data_df), \"images.\")\n",
    "data_df.head()"
   ]
  },
  {
   "cell_type": "markdown",
   "metadata": {
    "colab_type": "text",
    "id": "Ai3uvziWCSYh"
   },
   "source": [
    "Now we will create the Dataset class."
   ]
  },
  {
   "cell_type": "code",
   "execution_count": 0,
   "metadata": {
    "colab": {},
    "colab_type": "code",
    "id": "EyUb-rzQCSYi"
   },
   "outputs": [],
   "source": [
    "class ImageNet10(Dataset):\n",
    "    \"\"\" ImageNet10 dataset. \"\"\"\n",
    "\n",
    "    def __init__(self, df, transform=None):\n",
    "        \"\"\"\n",
    "        Args:\n",
    "            image_dir (string): Directory with all the images\n",
    "            df (DataFrame object): Dataframe containing the images, paths and classes\n",
    "            transform (callable, optional): Optional transform to be applied\n",
    "                on a sample.\n",
    "        \"\"\"\n",
    "        self.df = df\n",
    "        self.transform = transform\n",
    "\n",
    "    def __len__(self):\n",
    "        return len(self.df)\n",
    "\n",
    "    def __getitem__(self, index):\n",
    "        x = Image.open(self.df['path'][index])\n",
    "        try:\n",
    "          x = x.convert('RGB') \n",
    "        except:\n",
    "          pass\n",
    "        y = torch.tensor(int(self.df['class'][index]))\n",
    "\n",
    "        if self.transform:\n",
    "            x = self.transform(x)\n",
    "\n",
    "        return x, y"
   ]
  },
  {
   "cell_type": "markdown",
   "metadata": {
    "colab_type": "text",
    "id": "vqtRjBozCSYk"
   },
   "source": [
    "Compute what we should normalise the dataset to."
   ]
  },
  {
   "cell_type": "code",
   "execution_count": 0,
   "metadata": {
    "colab": {},
    "colab_type": "code",
    "id": "pPqfMPuZCSYl"
   },
   "outputs": [],
   "source": [
    "def compute_img_mean_std(image_paths):\n",
    "\n",
    "    img_h, img_w = 224, 224\n",
    "    imgs = []\n",
    "    means, stdevs = [], []\n",
    "\n",
    "    for i in tqdm(range(len(image_paths))):\n",
    "        img = cv2.imread(image_paths[i])\n",
    "        img = cv2.resize(img, (img_h, img_w))\n",
    "        imgs.append(img)\n",
    "\n",
    "    imgs = np.stack(imgs, axis=3)\n",
    "    print(imgs.shape)\n",
    "\n",
    "    imgs = imgs.astype(np.float32) / 255.\n",
    "\n",
    "    for i in range(3):\n",
    "        pixels = imgs[:, :, i, :].ravel()  # resize to one row\n",
    "        means.append(np.mean(pixels))\n",
    "        stdevs.append(np.std(pixels))\n",
    "\n",
    "    means.reverse()\n",
    "    stdevs.reverse()\n",
    "\n",
    "    print(\"normMean = {}\".format(means))\n",
    "    print(\"normStd = {}\".format(stdevs))\n",
    "    return means, stdevs\n"
   ]
  },
  {
   "cell_type": "code",
   "execution_count": 0,
   "metadata": {
    "colab": {},
    "colab_type": "code",
    "id": "-_1KSGUe4sEW"
   },
   "outputs": [],
   "source": [
    "# saving mean and std as variable to save time\n",
    "norm_mean = [0.5228375, 0.4798797, 0.40604797]\n",
    "norm_std = [0.2977067, 0.28883943, 0.31178203]"
   ]
  },
  {
   "cell_type": "markdown",
   "metadata": {
    "colab_type": "text",
    "id": "RqrG3FCUCSYo"
   },
   "source": [
    "We now create the transforms to normalise and turn our data into tensors."
   ]
  },
  {
   "cell_type": "code",
   "execution_count": 0,
   "metadata": {
    "colab": {},
    "colab_type": "code",
    "id": "OVeZpgM-CSYq"
   },
   "outputs": [],
   "source": [
    "data_transform = transforms.Compose([\n",
    "        transforms.Resize(256),\n",
    "        transforms.CenterCrop(256),\n",
    "        transforms.ToTensor(),\n",
    "        transforms.Normalize(norm_mean, norm_std),\n",
    "    ])"
   ]
  },
  {
   "cell_type": "markdown",
   "metadata": {
    "colab_type": "text",
    "id": "cAPzCfr2CSYt"
   },
   "source": [
    "Splitting data  into training, validation and test set."
   ]
  },
  {
   "cell_type": "code",
   "execution_count": 0,
   "metadata": {
    "colab": {},
    "colab_type": "code",
    "id": "POCexxXjCSYu"
   },
   "outputs": [],
   "source": [
    "train_split = 0.70 # Defines the ratio of train/valid/test data.\n",
    "valid_split = 0.10\n",
    "\n",
    "train_size = int(len(data_df)*train_split)\n",
    "valid_size = int(len(data_df)*valid_split)\n",
    "\n",
    "ins_dataset_train = ImageNet10(\n",
    "    df=data_df[:train_size],\n",
    "    transform=data_transform,\n",
    ")\n",
    "\n",
    "ins_dataset_valid = ImageNet10(\n",
    "    df=data_df[train_size:(train_size + valid_size)].reset_index(drop=True),\n",
    "    transform=data_transform,\n",
    ")\n",
    "\n",
    "ins_dataset_test = ImageNet10(\n",
    "    df=data_df[(train_size + valid_size):].reset_index(drop=True),\n",
    "    transform=data_transform,\n",
    ")"
   ]
  },
  {
   "cell_type": "code",
   "execution_count": null,
   "metadata": {},
   "outputs": [],
   "source": []
  },
  {
   "cell_type": "raw",
   "metadata": {
    "colab_type": "text",
    "id": "PzVfNzvmhTGJ"
   },
   "source": [
    "Creating Data Loaders."
   ]
  },
  {
   "cell_type": "code",
   "execution_count": 0,
   "metadata": {
    "colab": {},
    "colab_type": "code",
    "id": "_womtSmIhgSj"
   },
   "outputs": [],
   "source": [
    "train_loader = torch.utils.data.DataLoader(\n",
    "    ins_dataset_train,\n",
    "    batch_size=16,\n",
    "    shuffle=True,\n",
    "    num_workers=2\n",
    ")\n",
    "\n",
    "valid_loader = torch.utils.data.DataLoader(\n",
    "    ins_dataset_valid,\n",
    "    batch_size=24, \n",
    "    shuffle=False,\n",
    "    num_workers=2\n",
    ")\n",
    "\n",
    "test_loader = torch.utils.data.DataLoader(\n",
    "    ins_dataset_test,\n",
    "    batch_size=24, \n",
    "    shuffle=False,\n",
    "    num_workers=2\n",
    ")\n",
    "\n",
    "classes = np.arange(0, 10)\n",
    "#len(train_loader)\n",
    "\n"
   ]
  },
  {
   "cell_type": "markdown",
   "metadata": {
    "colab_type": "text",
    "id": "X00vuzPWhY5h"
   },
   "source": [
    "ConvNet model: Experiments with number of layers, kernel size."
   ]
  },
  {
   "cell_type": "code",
   "execution_count": 0,
   "metadata": {
    "colab": {},
    "colab_type": "code",
    "id": "3B5x07o3CSY7"
   },
   "outputs": [],
   "source": [
    "# Convolutional neural network\n",
    "class ConvNet(nn.Module):\n",
    "    \n",
    "    def __init__(self, num_classes=10):\n",
    "        super(ConvNet, self).__init__()\n",
    "  \n",
    "        # Add network layers here\n",
    "        self.layer1 = nn.Conv2d(3, 16, kernel_size=3)\n",
    "        self.pool = nn.MaxPool2d(kernel_size=2)\n",
    "           \n",
    "\n",
    "        #Second cnn sequence\n",
    "        self.layer2 = nn.Sequential(\n",
    "            nn.Conv2d(16, 24, kernel_size=4),\n",
    "            nn.ReLU(),\n",
    "            nn.MaxPool2d(kernel_size=2),\n",
    "            nn.Dropout(p=0.3))\n",
    "\n",
    "        #third cnn sequence\n",
    "        self.layer3 = nn.Sequential(\n",
    "            nn.Conv2d(24, 32, kernel_size=4),\n",
    "            nn.ReLU(),\n",
    "            nn.MaxPool2d(kernel_size=2),\n",
    "            nn.Dropout(p=0.3))\n",
    "        \n",
    "        self.layer4 = nn.Sequential(\n",
    "            nn.Conv2d(32,40 , kernel_size=4),\n",
    "            nn.ReLU(),\n",
    "            nn.MaxPool2d(kernel_size=2),\n",
    "            nn.Dropout(p=0.3))\n",
    "        \n",
    "        self.layer5 = nn.Sequential(\n",
    "            nn.Conv2d(40, 48, kernel_size=4),\n",
    "            nn.ReLU(),\n",
    "            nn.MaxPool2d(kernel_size=2),\n",
    "            nn.Dropout(p=0.3))\n",
    "\n",
    "\n",
    "        # Fully connected layers\n",
    "\n",
    "        self.fc1 = nn.Linear(1200, 256)         \n",
    "        self.fc2 = nn.Linear(256, num_classes)\n",
    "         \n",
    "\n",
    "    def forward(self, x):\n",
    "\n",
    "        x = self.pool(torch.nn.functional.relu(self.layer1(x)))      \n",
    "        x = torch.nn.functional.dropout(x, p=0.3)\n",
    "        x = self.layer2(x)\n",
    "        x = self.layer3(x)\n",
    "        x = self.layer4(x)\n",
    "        x = self.layer5(x)\n",
    "        x = x.reshape(x.size(0), -1)\n",
    "        x = self.fc1(x)\n",
    "        x = self.fc2(x)\n",
    "\n",
    "\n",
    "        return x"
   ]
  },
  {
   "cell_type": "code",
   "execution_count": 0,
   "metadata": {
    "colab": {},
    "colab_type": "code",
    "id": "O2PG5UzhZJ4b"
   },
   "outputs": [],
   "source": [
    "from torch import optim\n",
    "\n",
    "criterion = nn.CrossEntropyLoss()\n"
   ]
  },
  {
   "cell_type": "code",
   "execution_count": 0,
   "metadata": {
    "colab": {},
    "colab_type": "code",
    "id": "qsMc_DunaqwM"
   },
   "outputs": [],
   "source": [
    "device = torch.device('cuda:0' if torch.cuda.is_available() else 'cpu')\n",
    "device"
   ]
  },
  {
   "cell_type": "code",
   "execution_count": 0,
   "metadata": {
    "colab": {},
    "colab_type": "code",
    "id": "WzlrakR7ae5w"
   },
   "outputs": [],
   "source": [
    "model_gpu = ConvNet().to(device)\n",
    "\n",
    "optimizer = optim.SGD(model_gpu.parameters(), lr=0.001, momentum=0.9)"
   ]
  },
  {
   "cell_type": "markdown",
   "metadata": {},
   "source": [
    "FILTERS VISUALISATION"
   ]
  },
  {
   "cell_type": "code",
   "execution_count": 0,
   "metadata": {
    "colab": {},
    "colab_type": "code",
    "id": "8p1HlGUFG6Yg"
   },
   "outputs": [],
   "source": [
    "def normalise_filters(img):\n",
    "    img = img - img.min()\n",
    "    img = img / img.max()\n",
    "    return img\n",
    "\n",
    "def filter_visualization():\n",
    "    filters = model_gpu.layer1.weight.data\n",
    "    filters = filters.to(\"cpu\")\n",
    "    filterNP = filters.numpy()\n",
    "\n",
    "    filterNumber = 4\n",
    "    picID = 1\n",
    "    for k in range(0, 16):\n",
    "      graph = plt.subplot(filterNumber, 4, k+1)\n",
    "      graph.set_xticks([])\n",
    "      graph.set_yticks([])\n",
    "      #normalise filters\n",
    "      plt.imshow(normalise_filters(np.clip(filters[k],0,1)[:,:,0]), cmap='gray') #Red\n",
    "    plt.show()\n",
    "    print(\"Red\") \n",
    "\n",
    "    for k in range(0, 16):\n",
    "      graph = plt.subplot(filterNumber, 4, k+1)\n",
    "      graph.set_xticks([])\n",
    "      graph.set_yticks([])\n",
    "      plt.imshow(normalise_filters(np.clip(filters[k],0,1)[:,:,1]), cmap='gray') #Green\n",
    "    plt.show()\n",
    "    print(\"Green\")\n",
    "\n",
    "    for k in range(0, 16):\n",
    "      graph = plt.subplot(filterNumber, 4, k+1)\n",
    "      graph.set_xticks([])\n",
    "      graph.set_yticks([])\n",
    "      plt.imshow(normalise_filters(np.clip(filters[k],0,1)[:,:,2]), cmap='gray') #Blue\n",
    "    plt.show()\n",
    "    print(\"Blue\")"
   ]
  },
  {
   "cell_type": "markdown",
   "metadata": {},
   "source": [
    "Training function that enables to visualise filters before training, during and after training using the function above."
   ]
  },
  {
   "cell_type": "code",
   "execution_count": 0,
   "metadata": {
    "colab": {},
    "colab_type": "code",
    "id": "emEeFFATxrWm"
   },
   "outputs": [],
   "source": [
    "def train_model_epochs(num_epochs):\n",
    "    \n",
    "    train_losses=[]\n",
    "    valid_losses=[]\n",
    "    for epoch in range(num_epochs):\n",
    "\n",
    "        if(epoch == 0):\n",
    "            print(\"Filter Visualization before training\")\n",
    "            filter_visualization()\n",
    "\n",
    "        running_loss = 0.0  #calculates overal batch loss for each epoch\n",
    "        batch_count1 = 0    # how many time it runs over train_loader\n",
    "\n",
    "        for i, data in enumerate(train_loader, 0):\n",
    "            images, labels = data\n",
    "\n",
    "            # Explicitly specifies that data is to be copied onto the device!\n",
    "            images = images.to(device)  # <----------- And note it's NOT an in-place operation; original\n",
    "            labels = labels.to(device)  # <----------- variables still exist on CPU\n",
    "\n",
    "            optimizer.zero_grad()\n",
    "            outputs = model_gpu(images) #produces the model\n",
    "\n",
    "            loss = criterion(outputs, labels)\n",
    "            loss.backward()\n",
    "\n",
    "            optimizer.step()\n",
    "            running_loss += loss.item()\n",
    "            batch_count1 +=1\n",
    "            \n",
    "        print(\"Training loss for Epoch \", epoch+1, \", is \", running_loss/batch_count1)\n",
    "        train_losses.append(running_loss/batch_count1)\n",
    "\n",
    "\n",
    "        running_val_loss = 0.0\n",
    "        batch_count2 = 0\n",
    "\n",
    "        with torch.no_grad():\n",
    "          for b, vdata in enumerate(valid_loader, 0):\n",
    "          \n",
    "            images, labels = vdata\n",
    "            images = images.to(device)  # \n",
    "            labels = labels.to(device)  # \n",
    "\n",
    "            outputs = model_gpu(images)\n",
    "\n",
    "            # Compute the loss based on the true labels\n",
    "            val_loss = criterion(outputs, labels)\n",
    "            running_val_loss += val_loss.item()\n",
    "            batch_count2 +=1\n",
    "\n",
    "        print(\"Validation loss for Epoch \", epoch+1, \", is \", running_val_loss/batch_count2)\n",
    "        valid_losses.append(running_val_loss/batch_count2)\n",
    "\n",
    "\n",
    "        if((epoch+1)==(num_epochs//2)):\n",
    "            print(\"Filter Visualization during training\")\n",
    "            filter_visualization()\n",
    "\n",
    "        if(epoch==(num_epochs-1)):\n",
    "            print(\"Filter Visualization after training\")\n",
    "            filter_visualization()\n",
    "\n",
    "    plt.plot(train_losses, label='Training loss')\n",
    "    plt.plot(valid_losses, label='Validation loss')\n",
    "    plt.legend(frameon=False)\n",
    "    plt.ylabel('Loss')\n",
    "    plt.xlabel('Number of Epochs')\n",
    "    plt.ylim(0, 4)\n",
    "    plt.show()      \n"
   ]
  },
  {
   "cell_type": "code",
   "execution_count": 0,
   "metadata": {
    "colab": {},
    "colab_type": "code",
    "id": "RJ1KDLHKzpg6"
   },
   "outputs": [],
   "source": [
    "train_model_epochs(30)"
   ]
  },
  {
   "cell_type": "code",
   "execution_count": 22,
   "metadata": {
    "colab": {
     "base_uri": "https://localhost:8080/",
     "height": 33
    },
    "colab_type": "code",
    "id": "jsQoJxKCbbtc",
    "outputId": "432fa71c-8c9d-4211-b5db-ce8ecee800de"
   },
   "outputs": [
    {
     "name": "stdout",
     "output_type": "stream",
     "text": [
      "Accuracy of the network on the test images: 55 %\n"
     ]
    }
   ],
   "source": [
    "correct = 0\n",
    "total = 0\n",
    "\n",
    "with torch.no_grad():\n",
    "    \n",
    "    all_preds = []\n",
    "    all_labs = []\n",
    "\n",
    "    # Iterate over the test set\n",
    "    for data in test_loader:\n",
    "        images, labels = data\n",
    "        all_labs.extend(labels)\n",
    "\n",
    "        images = images.to(device)  \n",
    "        labels = labels.to(device)  \n",
    "        \n",
    "        outputs = model_gpu(images)\n",
    "                \n",
    "\n",
    "        _, predicted = torch.max(outputs.data, 1)\n",
    "        \n",
    "        all_preds.extend(predicted.cpu().detach().clone().numpy())\n",
    "\n",
    "        total += labels.size(0)\n",
    "        correct += (predicted == labels).sum().item()\n",
    "\n",
    "print('Accuracy of the network on the test images: %d %%' % (100 * correct / total))\n",
    "\n",
    "cm = confusion_matrix(all_labs, all_preds)"
   ]
  },
  {
   "cell_type": "markdown",
   "metadata": {},
   "source": [
    "Function to plot confusion matrix."
   ]
  },
  {
   "cell_type": "code",
   "execution_count": 0,
   "metadata": {
    "colab": {},
    "colab_type": "code",
    "id": "TVyYM3nlIciq"
   },
   "outputs": [],
   "source": [
    "import itertools\n",
    "\n",
    "def plot_confusion_matrix(cm,\n",
    "                          classes,\n",
    "                          normalize=False,\n",
    "                          title='Confusion matrix',\n",
    "                          cmap=plt.cm.Blues):\n",
    "\n",
    "    if normalize:\n",
    "        cm = cm.astype('float') / cm.sum(axis=1)[:, np.newaxis]\n",
    "        print(\"Normalized confusion matrix\")\n",
    "    else:\n",
    "        print('Confusion matrix, without normalization')\n",
    "\n",
    "    plt.imshow(cm, interpolation='nearest', cmap=cmap)\n",
    "    plt.title(title)\n",
    "\n",
    "    # Specify the tick marks and axis text\n",
    "    tick_marks = np.arange(len(classes))\n",
    "    plt.xticks(tick_marks, classes, rotation=90)\n",
    "    plt.yticks(tick_marks, classes)\n",
    "\n",
    "    # The data formatting\n",
    "    fmt = '.2f' if normalize else 'd'\n",
    "    thresh = cm.max() / 2.\n",
    "    \n",
    "    # Print the text of the matrix, adjusting text colour for display\n",
    "    for i, j in itertools.product(range(cm.shape[0]), range(cm.shape[1])):\n",
    "        plt.text(j, i, format(cm[i, j], fmt),\n",
    "                 horizontalalignment=\"center\",\n",
    "                 color=\"white\" if cm[i, j] > thresh else \"black\")\n",
    "\n",
    "    plt.ylabel('True label')\n",
    "    plt.xlabel('Predicted label')\n",
    "    plt.tight_layout()\n",
    "    plt.show()"
   ]
  },
  {
   "cell_type": "code",
   "execution_count": 24,
   "metadata": {
    "colab": {
     "base_uri": "https://localhost:8080/",
     "height": 313
    },
    "colab_type": "code",
    "id": "qJ_dovfGF405",
    "outputId": "b1108ec0-9d24-40fd-caa6-94d286973eba"
   },
   "outputs": [
    {
     "name": "stdout",
     "output_type": "stream",
     "text": [
      "Confusion matrix, without normalization\n"
     ]
    },
    {
     "data": {
      "image/png": "[encoded data removed]",
      "text/plain": [
       "<Figure size 432x288 with 1 Axes>"
      ]
     },
     "metadata": {
      "tags": []
     },
     "output_type": "display_data"
    }
   ],
   "source": [
    "plot_confusion_matrix(cm, classes)"
   ]
  },
  {
   "cell_type": "markdown",
   "metadata": {},
   "source": [
    "Feature maps visualisation."
   ]
  },
  {
   "cell_type": "code",
   "execution_count": 0,
   "metadata": {
    "colab": {},
    "colab_type": "code",
    "id": "oUJXjFYSpZWI"
   },
   "outputs": [],
   "source": [
    "# Visualize feature maps\n",
    "activation = {}\n",
    "def get_activation(name):\n",
    "    def hook(model_gpu, input, output):\n",
    "        activation[name] = output.detach()\n",
    "    return hook\n",
    "\n",
    "\n",
    "# 1st layer feature map picture 1\n",
    "model_gpu.layer1.register_forward_hook(get_activation('layer1'))\n",
    "data, _ = ins_dataset_train[0]\n",
    "data.unsqueeze_(0)\n",
    "output = model_gpu.cpu()\n",
    "output = output(data)\n",
    "\n",
    "\n",
    "act = activation['layer1'].squeeze()\n",
    "fig, axarr = plt.subplots(2,2)\n",
    "for idx in range(act.size(0)):\n",
    "  axarr[0,0].imshow(act[0], cmap='gray')\n",
    "  axarr[0,1].imshow(act[1], cmap='gray')\n",
    "  axarr[1,0].imshow(act[2], cmap='gray')\n",
    "  axarr[1,1].imshow(act[3], cmap='gray')\n",
    "fig.suptitle('Feature map layer 1')\n",
    "\n",
    "\n",
    "\n",
    "# 2nd layer feature map picture 1\n",
    "model_gpu.layer2.register_forward_hook(get_activation('layer2'))\n",
    "data, _ = ins_dataset_train[0]\n",
    "data.unsqueeze_(0)\n",
    "output = model_gpu.cpu()\n",
    "output = output(data)\n",
    "\n",
    "\n",
    "act = activation['layer2'].squeeze()\n",
    "fig, axarr = plt.subplots(2,2)\n",
    "for idx in range(act.size(0)):\n",
    "  axarr[0,0].imshow(act[0], cmap='gray')\n",
    "  axarr[0,1].imshow(act[1], cmap='gray')\n",
    "  axarr[1,0].imshow(act[2], cmap='gray')\n",
    "  axarr[1,1].imshow(act[3], cmap='gray')\n",
    "fig.suptitle('Feature map layer 2')\n",
    "\n",
    "\n",
    "# 3rd layer feature map picture 1\n",
    "model_gpu.layer3.register_forward_hook(get_activation('layer3'))\n",
    "data, _ = ins_dataset_train[0]\n",
    "data.unsqueeze_(0)\n",
    "output = model_gpu.cpu()\n",
    "output = output(data)\n",
    "\n",
    "\n",
    "act = activation['layer3'].squeeze()\n",
    "fig, axarr = plt.subplots(2,2)\n",
    "for idx in range(act.size(0)):\n",
    "    axarr[0,0].imshow(act[0], cmap='gray')\n",
    "    axarr[0,1].imshow(act[1], cmap='gray')\n",
    "    axarr[1,0].imshow(act[2], cmap='gray')\n",
    "    axarr[1,1].imshow(act[3], cmap='gray')\n",
    "fig.suptitle('Feature map layer 3')\n",
    "\n",
    "# 4rth layer feature map picture 1\n",
    "model_gpu.layer4.register_forward_hook(get_activation('layer4'))\n",
    "data, _ = ins_dataset_train[0]\n",
    "data.unsqueeze_(0)\n",
    "output = model_gpu.cpu()\n",
    "output = output(data)\n",
    "\n",
    "\n",
    "act = activation['layer4'].squeeze()\n",
    "fig, axarr = plt.subplots(2,2)\n",
    "for idx in range(act.size(0)):\n",
    "    axarr[0,0].imshow(act[0], cmap='gray')\n",
    "    axarr[0,1].imshow(act[1], cmap='gray')\n",
    "    axarr[1,0].imshow(act[2], cmap='gray')\n",
    "    axarr[1,1].imshow(act[3], cmap='gray')\n",
    "fig.suptitle('Feature map layer 4')\n",
    "\n",
    "# 5th layer feature map picture 1\n",
    "model_gpu.layer5.register_forward_hook(get_activation('layer5'))\n",
    "data, _ = ins_dataset_train[0]\n",
    "data.unsqueeze_(0)\n",
    "output = model_gpu.cpu()\n",
    "output = output(data)\n",
    "\n",
    "\n",
    "act = activation['layer4'].squeeze()\n",
    "fig, axarr = plt.subplots(2,2)\n",
    "for idx in range(act.size(0)):\n",
    "    axarr[0,0].imshow(act[0], cmap='gray')\n",
    "    axarr[0,1].imshow(act[1], cmap='gray')\n",
    "    axarr[1,0].imshow(act[2], cmap='gray')\n",
    "    axarr[1,1].imshow(act[3], cmap='gray')\n",
    "fig.suptitle('Feature map layer 5')\n",
    "###############################################################################\n",
    " picture 2\n",
    "\n",
    "# 1st layer feature map picture 2\n",
    "model_gpu.layer1.register_forward_hook(get_activation('layer1'))\n",
    "data, _ = ins_dataset_train[1]\n",
    "data.unsqueeze_(0)\n",
    "output = model_gpu.cpu()\n",
    "output = output(data)\n",
    "\n",
    "\n",
    "act = activation['layer1'].squeeze()\n",
    "fig, axarr = plt.subplots(2,2)\n",
    "for idx in range(act.size(0)):\n",
    "    axarr[0,0].imshow(act[0], cmap='gray')\n",
    "    axarr[0,1].imshow(act[1], cmap='gray')\n",
    "    axarr[1,0].imshow(act[2], cmap='gray')\n",
    "    axarr[1,1].imshow(act[3], cmap='gray')\n",
    "fig.suptitle('Feature map layer 1')\n",
    "\n",
    "# 2nd layer feature map picture 2\n",
    "model_gpu.layer2.register_forward_hook(get_activation('layer2'))\n",
    "data, _ = ins_dataset_train[3]\n",
    "data.unsqueeze_(0)\n",
    "output = model_gpu.cpu()\n",
    "output = output(data)\n",
    "\n",
    "\n",
    "act = activation['layer2'].squeeze()\n",
    "fig, axarr = plt.subplots(2,2)\n",
    "for idx in range(act.size(0)):\n",
    "    axarr[0,0].imshow(act[0], cmap='gray')\n",
    "    axarr[0,1].imshow(act[1], cmap='gray')\n",
    "    axarr[1,0].imshow(act[2], cmap='gray')\n",
    "    axarr[1,1].imshow(act[3], cmap='gray')\n",
    "fig.suptitle('Feature map layer 2')\n",
    "\n",
    "# 3rd layer feature map picture 2\n",
    "model_gpu.layer3.register_forward_hook(get_activation('layer3'))\n",
    "data, _ = ins_dataset_train[3]\n",
    "data.unsqueeze_(0)\n",
    "output = model_gpu.cpu()\n",
    "output = output(data)\n",
    "\n",
    "\n",
    "act = activation['layer3'].squeeze()\n",
    "fig, axarr = plt.subplots(2,2)\n",
    "for idx in range(act.size(0)):\n",
    "    axarr[0,0].imshow(act[0], cmap='gray')\n",
    "    axarr[0,1].imshow(act[1], cmap='gray')\n",
    "    axarr[1,0].imshow(act[2], cmap='gray')\n",
    "    axarr[1,1].imshow(act[3], cmap='gray')\n",
    "fig.suptitle('Feature map layer 3')\n",
    "\n",
    "# 4rth layer feature map picture 2\n",
    "model_gpu.layer4.register_forward_hook(get_activation('layer4'))\n",
    "data, _ = ins_dataset_train[3]\n",
    "data.unsqueeze_(0)\n",
    "output = model_gpu.cpu()\n",
    "output = output(data)\n",
    "\n",
    "\n",
    "act = activation['layer4'].squeeze()\n",
    "fig, axarr = plt.subplots(2,2)\n",
    "for idx in range(act.size(0)):\n",
    "    axarr[0,0].imshow(act[0], cmap='gray')\n",
    "    axarr[0,1].imshow(act[1], cmap='gray')\n",
    "    axarr[1,0].imshow(act[2], cmap='gray')\n",
    "    axarr[1,1].imshow(act[3], cmap='gray')\n",
    "fig.suptitle('Feature map layer 4')\n",
    "\n",
    "# 5th layer feature map picture 2\n",
    "model_gpu.layer5.register_forward_hook(get_activation('layer5'))\n",
    "data, _ = ins_dataset_train[4]\n",
    "data.unsqueeze_(0)\n",
    "output = model_gpu.cpu()\n",
    "output = output(data)\n",
    "\n",
    "\n",
    "act = activation['layer4'].squeeze()\n",
    "fig, axarr = plt.subplots(2,2)\n",
    "for idx in range(act.size(0)):\n",
    "    axarr[0,0].imshow(act[0], cmap='gray')\n",
    "    axarr[0,1].imshow(act[1], cmap='gray')\n",
    "    axarr[1,0].imshow(act[2], cmap='gray')\n",
    "    axarr[1,1].imshow(act[3], cmap='gray')\n",
    "fig.suptitle('Feature map layer 5')\n",
    "\n"
   ]
  }
 ],
 "metadata": {
  "accelerator": "GPU",
  "colab": {
   "collapsed_sections": [],
   "machine_shape": "hm",
   "name": "AI_Coursework1.ipynb",
   "provenance": []
  },
  "kernelspec": {
   "display_name": "Python 3",
   "language": "python",
   "name": "python3"
  },
  "language_info": {
   "codemirror_mode": {
    "name": "ipython",
    "version": 3
   },
   "file_extension": ".py",
   "mimetype": "text/x-python",
   "name": "python",
   "nbconvert_exporter": "python",
   "pygments_lexer": "ipython3",
   "version": "3.8.3"
  }
 },
 "nbformat": 4,
 "nbformat_minor": 1
}
