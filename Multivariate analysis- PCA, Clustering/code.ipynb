{
 "cells": [
  {
   "cell_type": "markdown",
   "metadata": {},
   "source": [
    "## Downloading dataset and creating subsets"
   ]
  },
  {
   "cell_type": "code",
   "execution_count": null,
   "metadata": {},
   "outputs": [],
   "source": [
    "\n",
    "\n",
    "    dd=read.csv(\"Final_dataset4.csv\", header=TRUE, row.names = 1)\n",
    "    dd=dd[,order(colnames(dd))]\n",
    "    dd.econ=dd[,1:7]\n",
    "    dd.env=dd[,8:10]\n",
    "    dd.health=dd[,11:14]\n",
    "    dd.h.env=dd[,8:14]\n",
    "    dd.h.econ=dd[,c(11,12,13,14,1,2,3,4,5,6,7)]\n",
    "    dd.env.econ=dd[,1:10]"
   ]
  },
  {
   "cell_type": "markdown",
   "metadata": {},
   "source": [
    "## Correlation analysis for variables in group health"
   ]
  },
  {
   "cell_type": "code",
   "execution_count": null,
   "metadata": {},
   "outputs": [],
   "source": [
    "    install.packages(\"GGally\")\n",
    "    library(\"GGally\")\n",
    "    dd.health.log=log(dd.health)\n",
    "    ggpairs(dd.health.log)\n",
    "    round(cor(dd.health.log),2)\n",
    "    cor.test(dd.health.log$health1, dd.health.log$health2)\n",
    "    cor.test(dd.health.log$health1, dd.health.log$health4)\n",
    "    cor.test(dd.health.log$health2, dd.health.log$health4)"
   ]
  },
  {
   "cell_type": "markdown",
   "metadata": {},
   "source": [
    "## Principal Component Analysis"
   ]
  },
  {
   "cell_type": "code",
   "execution_count": null,
   "metadata": {},
   "outputs": [],
   "source": [
    "    library(\"factoextra\")\n",
    "    d1=dd[,1:14]\n",
    "    pp=princomp(d1, cor=TRUE)\n",
    "    pp$loadings ##displays loadings\n",
    "    \n",
    "    fviz_pca_biplot(pp, created biplot\n",
    "        col.var = \"red\",\n",
    "        col.ind = \"black\")\n",
    "    \n",
    "    summary(pp) ##shows how much variance is explained by each component\n",
    "    fviz_contrib(pp, choice = \"var\", axes = 1, top = 6) # displays plot showing variable importance for first component"
   ]
  },
  {
   "cell_type": "code",
   "execution_count": null,
   "metadata": {},
   "outputs": [],
   "source": []
  },
  {
   "cell_type": "markdown",
   "metadata": {},
   "source": [
    "## Clustering Analysis"
   ]
  },
  {
   "cell_type": "code",
   "execution_count": null,
   "metadata": {},
   "outputs": [],
   "source": [
    "dds=scale(d1)\n",
    "km.res <- kmeans(dds, 3, nstart = 25)\n",
    "fviz_cluster(km.res, data = dds,\n",
    "    ellipse.type = \"convex\",\n",
    "    palette = \"jco\",\n",
    "    ggtheme = theme_minimal()) # displays cluster plot"
   ]
  },
  {
   "cell_type": "markdown",
   "metadata": {},
   "source": [
    "# Discriminant Analysis"
   ]
  },
  {
   "cell_type": "code",
   "execution_count": null,
   "metadata": {},
   "outputs": [],
   "source": [
    "d1=dd[dd[,15]==\"Low income\",1:14]\n",
    "d2=dd[dd[,15]==\"High income\",1:14]\n",
    "m1=apply(d1, 2, mean)\n",
    "m2=apply(d2, 2, mean)\n",
    "v1=var(d1)\n",
    "v2=var(d2)\n",
    "n1=length(d1)\n",
    "n2=length(d2)\n",
    "vpool=((n1-1)*v1 + (n2-1)*v2)/(n1+n2-2)\n",
    "avector=solve(vpool)%*%(m1-m2)\n",
    "#round(avector)\n",
    "astar=diag(vpool)^(-0.5)*avector\n",
    "round(astar, 3)"
   ]
  },
  {
   "cell_type": "markdown",
   "metadata": {},
   "source": [
    "## Taking out UK from observations"
   ]
  },
  {
   "cell_type": "code",
   "execution_count": null,
   "metadata": {},
   "outputs": [],
   "source": [
    "ddnew=dd[-103,]\n",
    "d1=ddnew[ddnew[,15]==\"Low income\",1:14]\n",
    "d2=ddnew[ddnew[,15]==\"High income\",1:14]\n",
    "m1=apply(d1,2,mean)\n",
    "m2=apply(d2,2,mean)\n",
    "v1=var(d1)\n",
    "v2=var(d2)\n",
    "n1=length(d1)\n",
    "n2=length(d2)\n",
    "vpool=((n1-1)*v1 + (n2-1)*v2)/(n1+n2-2)\n",
    "avector=solve(vpool)%*%(m1-m2)\n",
    "astar=diag(vpool)^(-0.5)*avector\n",
    "sum(astar*dd[103,1:13])\n",
    "d1m=as.matrix(d1)\n",
    "d2m=as.matrix(d2)\n",
    "z1=d1m%*%astar\n",
    "z2=d2m%*%astar\n",
    "hist(z1,20)\n",
    "hist(z2, 20)"
   ]
  }
 ],
 "metadata": {
  "kernelspec": {
   "display_name": "Python 3",
   "language": "python",
   "name": "python3"
  },
  "language_info": {
   "codemirror_mode": {
    "name": "ipython",
    "version": 3
   },
   "file_extension": ".py",
   "mimetype": "text/x-python",
   "name": "python",
   "nbconvert_exporter": "python",
   "pygments_lexer": "ipython3",
   "version": "3.8.3"
  }
 },
 "nbformat": 4,
 "nbformat_minor": 4
}
